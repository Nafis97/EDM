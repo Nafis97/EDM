{
 "cells": [
  {
   "cell_type": "code",
   "execution_count": 83,
   "id": "507be5ea",
   "metadata": {},
   "outputs": [],
   "source": [
    "import pandas as pd\n",
    "import seaborn as sns\n",
    "from matplotlib import pyplot as plt\n",
    "import numpy as np \n",
    "from sklearn.model_selection import train_test_split\n",
    "from sklearn.feature_extraction.text import CountVectorizer, TfidfVectorizer"
   ]
  },
  {
   "cell_type": "markdown",
   "id": "e77881cc",
   "metadata": {},
   "source": [
    "# Reading Dataset "
   ]
  },
  {
   "cell_type": "code",
   "execution_count": 84,
   "id": "4a6dce7e",
   "metadata": {},
   "outputs": [
    {
     "name": "stdout",
     "output_type": "stream",
     "text": [
      "There are 5517 rows and 2 columns\n"
     ]
    }
   ],
   "source": [
    "emotions = pd.read_csv('Emotion.csv' ) #delimiter= ';'\n",
    "emotions.dataframeName = 'Emotion.csv'\n",
    "nRow, nCol = emotions.shape\n",
    "print(f'There are {nRow} rows and {nCol} columns')"
   ]
  },
  {
   "cell_type": "code",
   "execution_count": 85,
   "id": "31aa50d1",
   "metadata": {},
   "outputs": [],
   "source": [
    "emotions.head(50)\n",
    "emotions['Sentiment'] = emotions.iloc[:, 1:]\n",
    "\n",
    "#print(emotions['Sentiment'])\n",
    "#print (emotions[''])\n"
   ]
  },
  {
   "cell_type": "markdown",
   "id": "16d3f88a",
   "metadata": {},
   "source": [
    "# Data Class"
   ]
  },
  {
   "cell_type": "code",
   "execution_count": 86,
   "id": "d164e3ec",
   "metadata": {},
   "outputs": [],
   "source": [
    "class Emotions:\n",
    "    SADNESS= 'SADNESS'\n",
    "    JOY= 'JOY'\n",
    "    FEAR= 'FEAR'\n",
    "    ANGER= 'ANGER'\n",
    "    LOVE= 'LOVE'\n",
    "    \n",
    "class Comments:\n",
    "    def __init__(self, text, sentiment):\n",
    "        self.text= text\n",
    "        self.sentiment= sentiment\n",
    "        \n",
    "class CommentContainer:\n",
    "    def __init__(self, comments):\n",
    "        self.comments = comments\n",
    "        \n",
    "    def get_text(self):\n",
    "        return self.comments['Text']\n",
    "    def get_x(self, vectorizer):\n",
    "        return vectorizer.transform(self.get_text)\n",
    "    def get_y(self):\n",
    "        return self.comments['Sentiment']\n",
    "    \n"
   ]
  },
  {
   "cell_type": "markdown",
   "id": "8d0cbe7a",
   "metadata": {},
   "source": [
    "# Training and tesing Data"
   ]
  },
  {
   "cell_type": "code",
   "execution_count": 87,
   "id": "10deec1a",
   "metadata": {},
   "outputs": [],
   "source": [
    "training_data, test_data = train_test_split(emotions, test_size= 0.30, random_state=42)\n",
    "\n",
    "\n",
    "train_container= CommentContainer(training_data)\n",
    "\n",
    "test_container= CommentContainer(test_data)\n",
    "\n",
    "#print(train_y[0])\n",
    "train_x =train_container.get_text() \n",
    "train_y = train_container.get_y()\n",
    "test_x =test_container.get_text()\n",
    "test_y =test_container.get_y()\n",
    "\n"
   ]
  },
  {
   "cell_type": "markdown",
   "id": "651eccb6",
   "metadata": {},
   "source": [
    "# Bag of words"
   ]
  },
  {
   "cell_type": "code",
   "execution_count": 88,
   "id": "2e6875e0",
   "metadata": {},
   "outputs": [
    {
     "name": "stdout",
     "output_type": "stream",
     "text": [
      "[[0. 0. 0. ... 0. 0. 0.]]\n"
     ]
    }
   ],
   "source": [
    "vectorizer = TfidfVectorizer()\n",
    "training_x_vectors = vectorizer.fit_transform(train_x)\n",
    "\n",
    "test_x_vectors = vectorizer.transform(test_x)\n",
    "print(training_x_vectors[0].toarray())\n"
   ]
  },
  {
   "cell_type": "markdown",
   "id": "d539a77f",
   "metadata": {},
   "source": [
    "# Classification"
   ]
  },
  {
   "cell_type": "markdown",
   "id": "023f07da",
   "metadata": {},
   "source": [
    "# Linear SVM"
   ]
  },
  {
   "cell_type": "code",
   "execution_count": 89,
   "id": "50f63b6a",
   "metadata": {
    "scrolled": false
   },
   "outputs": [
    {
     "data": {
      "text/plain": [
       "array(['sadness'], dtype=object)"
      ]
     },
     "execution_count": 89,
     "metadata": {},
     "output_type": "execute_result"
    }
   ],
   "source": [
    "from sklearn import svm\n",
    "\n",
    "clf_svm = svm.SVC(kernel='linear')\n",
    "\n",
    "clf_svm.fit(training_x_vectors, train_y)\n",
    "\n",
    "clf_svm.predict(test_x_vectors[0])"
   ]
  },
  {
   "cell_type": "markdown",
   "id": "0a29d070",
   "metadata": {},
   "source": [
    "# Logistic Regression\n"
   ]
  },
  {
   "cell_type": "code",
   "execution_count": 90,
   "id": "6f934bf6",
   "metadata": {},
   "outputs": [
    {
     "data": {
      "text/plain": [
       "array(['joy'], dtype=object)"
      ]
     },
     "execution_count": 90,
     "metadata": {},
     "output_type": "execute_result"
    }
   ],
   "source": [
    "from sklearn.linear_model import LogisticRegression\n",
    "\n",
    "clf_log = LogisticRegression()\n",
    "clf_log.fit(training_x_vectors, train_y)\n",
    "\n",
    "clf_log.predict(test_x_vectors[0])\n"
   ]
  },
  {
   "cell_type": "markdown",
   "id": "4233f79b",
   "metadata": {},
   "source": [
    "# Gaussian Naive Bayes"
   ]
  },
  {
   "cell_type": "code",
   "execution_count": 91,
   "id": "28f5018d",
   "metadata": {},
   "outputs": [
    {
     "data": {
      "text/plain": [
       "array(['sadness'], dtype=object)"
      ]
     },
     "execution_count": 91,
     "metadata": {},
     "output_type": "execute_result"
    }
   ],
   "source": [
    "from sklearn.naive_bayes import GaussianNB\n",
    "from sklearn.tree import DecisionTreeClassifier\n",
    "\n",
    "clf_gnb = DecisionTreeClassifier()\n",
    "\n",
    "clf_gnb.fit(training_x_vectors, train_y)\n",
    "\n",
    "clf_gnb.predict(test_x_vectors[0])"
   ]
  },
  {
   "cell_type": "markdown",
   "id": "54790d81",
   "metadata": {},
   "source": [
    "# Evaluation"
   ]
  },
  {
   "cell_type": "code",
   "execution_count": 92,
   "id": "b8d28e74",
   "metadata": {},
   "outputs": [
    {
     "name": "stdout",
     "output_type": "stream",
     "text": [
      "0.803743961352657\n",
      "0.8176328502415459\n",
      "0.6986714975845411\n"
     ]
    }
   ],
   "source": [
    "# Mean Accuracy\n",
    "print(clf_svm.score(test_x_vectors, test_y))\n",
    "print(clf_gnb.score(test_x_vectors, test_y))\n",
    "\n",
    "print(clf_log.score(test_x_vectors, test_y))"
   ]
  },
  {
   "cell_type": "markdown",
   "id": "12ab6552",
   "metadata": {},
   "source": [
    "# testing new data "
   ]
  },
  {
   "cell_type": "code",
   "execution_count": 93,
   "id": "7b87a285",
   "metadata": {},
   "outputs": [
    {
     "data": {
      "text/plain": [
       "array(['joy', 'sadness', 'sadness', 'sadness', 'sadness'], dtype=object)"
      ]
     },
     "execution_count": 93,
     "metadata": {},
     "output_type": "execute_result"
    }
   ],
   "source": [
    "test_set = ['very fun', \n",
    "            \"bad book do not buy\", \n",
    "            'horrible waste of time',\n",
    "            'i dont have internet connection','i hate you']\n",
    "new_test = vectorizer.transform(test_set)\n",
    "\n",
    "clf_svm.predict(new_test)\n"
   ]
  },
  {
   "cell_type": "code",
   "execution_count": 94,
   "id": "e5a275ca",
   "metadata": {},
   "outputs": [
    {
     "data": {
      "text/plain": [
       "array(['joy', 'sadness', 'sadness', 'joy', 'joy'], dtype=object)"
      ]
     },
     "execution_count": 94,
     "metadata": {},
     "output_type": "execute_result"
    }
   ],
   "source": [
    "test_set = ['very fun', \"bad book do not buy\", \n",
    "            'horrible waste of time',\n",
    "            'i dont have internet connection',\n",
    "            'i hate you']\n",
    "new_test = vectorizer.transform(test_set)\n",
    "clf_log.predict(new_test)"
   ]
  },
  {
   "cell_type": "code",
   "execution_count": 95,
   "id": "b60d40db",
   "metadata": {},
   "outputs": [
    {
     "data": {
      "text/plain": [
       "array(['joy', 'sadness', 'sadness', 'joy', 'joy'], dtype=object)"
      ]
     },
     "execution_count": 95,
     "metadata": {},
     "output_type": "execute_result"
    }
   ],
   "source": [
    "test_set = ['very fun', \"bad book do not buy\", \n",
    "            'horrible waste of time',\n",
    "            'i dont have internet connection',\n",
    "            'i hate you']\n",
    "new_test = vectorizer.transform(test_set)\n",
    "clf_gnb.predict(new_test)"
   ]
  },
  {
   "cell_type": "code",
   "execution_count": null,
   "id": "a8655ce7",
   "metadata": {},
   "outputs": [],
   "source": []
  }
 ],
 "metadata": {
  "kernelspec": {
   "display_name": "Python 3",
   "language": "python",
   "name": "python3"
  },
  "language_info": {
   "codemirror_mode": {
    "name": "ipython",
    "version": 3
   },
   "file_extension": ".py",
   "mimetype": "text/x-python",
   "name": "python",
   "nbconvert_exporter": "python",
   "pygments_lexer": "ipython3",
   "version": "3.8.8"
  }
 },
 "nbformat": 4,
 "nbformat_minor": 5
}
